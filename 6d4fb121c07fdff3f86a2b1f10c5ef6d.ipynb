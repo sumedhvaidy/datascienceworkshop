{
  "nbformat": 4,
  "nbformat_minor": 0,
  "metadata": {
    "kernelspec": {
      "display_name": "Python 3",
      "language": "python",
      "name": "python3"
    },
    "language_info": {
      "codemirror_mode": {
        "name": "ipython",
        "version": 3
      },
      "file_extension": ".py",
      "mimetype": "text/x-python",
      "name": "python",
      "nbconvert_exporter": "python",
      "pygments_lexer": "ipython3",
      "version": "3.8.5"
    },
    "colab": {
      "name": "6d4fb121c07fdff3f86a2b1f10c5ef6d",
      "provenance": []
    },
    "widgets": {
      "application/vnd.jupyter.widget-state+json": {
        "2be2c227b6b04027a9eb9323f83ade03": {
          "model_module": "@jupyter-widgets/controls",
          "model_name": "HBoxModel",
          "state": {
            "_view_name": "HBoxView",
            "_dom_classes": [],
            "_model_name": "HBoxModel",
            "_view_module": "@jupyter-widgets/controls",
            "_model_module_version": "1.5.0",
            "_view_count": null,
            "_view_module_version": "1.5.0",
            "box_style": "",
            "layout": "IPY_MODEL_e1382813f08149a8854bdc73bd8e990d",
            "_model_module": "@jupyter-widgets/controls",
            "children": [
              "IPY_MODEL_e319d87436ff4a87acca57f715569942",
              "IPY_MODEL_8de8cc791b7d4151b24cf2b286e212fa"
            ]
          }
        },
        "e1382813f08149a8854bdc73bd8e990d": {
          "model_module": "@jupyter-widgets/base",
          "model_name": "LayoutModel",
          "state": {
            "_view_name": "LayoutView",
            "grid_template_rows": null,
            "right": null,
            "justify_content": null,
            "_view_module": "@jupyter-widgets/base",
            "overflow": null,
            "_model_module_version": "1.2.0",
            "_view_count": null,
            "flex_flow": null,
            "width": null,
            "min_width": null,
            "border": null,
            "align_items": null,
            "bottom": null,
            "_model_module": "@jupyter-widgets/base",
            "top": null,
            "grid_column": null,
            "overflow_y": null,
            "overflow_x": null,
            "grid_auto_flow": null,
            "grid_area": null,
            "grid_template_columns": null,
            "flex": null,
            "_model_name": "LayoutModel",
            "justify_items": null,
            "grid_row": null,
            "max_height": null,
            "align_content": null,
            "visibility": null,
            "align_self": null,
            "height": null,
            "min_height": null,
            "padding": null,
            "grid_auto_rows": null,
            "grid_gap": null,
            "max_width": null,
            "order": null,
            "_view_module_version": "1.2.0",
            "grid_template_areas": null,
            "object_position": null,
            "object_fit": null,
            "grid_auto_columns": null,
            "margin": null,
            "display": null,
            "left": null
          }
        },
        "e319d87436ff4a87acca57f715569942": {
          "model_module": "@jupyter-widgets/controls",
          "model_name": "FloatProgressModel",
          "state": {
            "_view_name": "ProgressView",
            "style": "IPY_MODEL_6c64fe5c36944af29aa2cf5df065a57d",
            "_dom_classes": [],
            "description": "",
            "_model_name": "FloatProgressModel",
            "bar_style": "info",
            "max": 1,
            "_view_module": "@jupyter-widgets/controls",
            "_model_module_version": "1.5.0",
            "value": 1,
            "_view_count": null,
            "_view_module_version": "1.5.0",
            "orientation": "horizontal",
            "min": 0,
            "description_tooltip": null,
            "_model_module": "@jupyter-widgets/controls",
            "layout": "IPY_MODEL_f53f922d58114c4092d344aa3ee3de1f"
          }
        },
        "8de8cc791b7d4151b24cf2b286e212fa": {
          "model_module": "@jupyter-widgets/controls",
          "model_name": "HTMLModel",
          "state": {
            "_view_name": "HTMLView",
            "style": "IPY_MODEL_12e63cbbdf594b5fb022a5b98fe49fae",
            "_dom_classes": [],
            "description": "",
            "_model_name": "HTMLModel",
            "placeholder": "​",
            "_view_module": "@jupyter-widgets/controls",
            "_model_module_version": "1.5.0",
            "value": " 9920512/? [00:20&lt;00:00, 3375652.84it/s]",
            "_view_count": null,
            "_view_module_version": "1.5.0",
            "description_tooltip": null,
            "_model_module": "@jupyter-widgets/controls",
            "layout": "IPY_MODEL_19e5b78b94054fbaa66a22bbb7585393"
          }
        },
        "6c64fe5c36944af29aa2cf5df065a57d": {
          "model_module": "@jupyter-widgets/controls",
          "model_name": "ProgressStyleModel",
          "state": {
            "_view_name": "StyleView",
            "_model_name": "ProgressStyleModel",
            "description_width": "initial",
            "_view_module": "@jupyter-widgets/base",
            "_model_module_version": "1.5.0",
            "_view_count": null,
            "_view_module_version": "1.2.0",
            "bar_color": null,
            "_model_module": "@jupyter-widgets/controls"
          }
        },
        "f53f922d58114c4092d344aa3ee3de1f": {
          "model_module": "@jupyter-widgets/base",
          "model_name": "LayoutModel",
          "state": {
            "_view_name": "LayoutView",
            "grid_template_rows": null,
            "right": null,
            "justify_content": null,
            "_view_module": "@jupyter-widgets/base",
            "overflow": null,
            "_model_module_version": "1.2.0",
            "_view_count": null,
            "flex_flow": null,
            "width": null,
            "min_width": null,
            "border": null,
            "align_items": null,
            "bottom": null,
            "_model_module": "@jupyter-widgets/base",
            "top": null,
            "grid_column": null,
            "overflow_y": null,
            "overflow_x": null,
            "grid_auto_flow": null,
            "grid_area": null,
            "grid_template_columns": null,
            "flex": null,
            "_model_name": "LayoutModel",
            "justify_items": null,
            "grid_row": null,
            "max_height": null,
            "align_content": null,
            "visibility": null,
            "align_self": null,
            "height": null,
            "min_height": null,
            "padding": null,
            "grid_auto_rows": null,
            "grid_gap": null,
            "max_width": null,
            "order": null,
            "_view_module_version": "1.2.0",
            "grid_template_areas": null,
            "object_position": null,
            "object_fit": null,
            "grid_auto_columns": null,
            "margin": null,
            "display": null,
            "left": null
          }
        },
        "12e63cbbdf594b5fb022a5b98fe49fae": {
          "model_module": "@jupyter-widgets/controls",
          "model_name": "DescriptionStyleModel",
          "state": {
            "_view_name": "StyleView",
            "_model_name": "DescriptionStyleModel",
            "description_width": "",
            "_view_module": "@jupyter-widgets/base",
            "_model_module_version": "1.5.0",
            "_view_count": null,
            "_view_module_version": "1.2.0",
            "_model_module": "@jupyter-widgets/controls"
          }
        },
        "19e5b78b94054fbaa66a22bbb7585393": {
          "model_module": "@jupyter-widgets/base",
          "model_name": "LayoutModel",
          "state": {
            "_view_name": "LayoutView",
            "grid_template_rows": null,
            "right": null,
            "justify_content": null,
            "_view_module": "@jupyter-widgets/base",
            "overflow": null,
            "_model_module_version": "1.2.0",
            "_view_count": null,
            "flex_flow": null,
            "width": null,
            "min_width": null,
            "border": null,
            "align_items": null,
            "bottom": null,
            "_model_module": "@jupyter-widgets/base",
            "top": null,
            "grid_column": null,
            "overflow_y": null,
            "overflow_x": null,
            "grid_auto_flow": null,
            "grid_area": null,
            "grid_template_columns": null,
            "flex": null,
            "_model_name": "LayoutModel",
            "justify_items": null,
            "grid_row": null,
            "max_height": null,
            "align_content": null,
            "visibility": null,
            "align_self": null,
            "height": null,
            "min_height": null,
            "padding": null,
            "grid_auto_rows": null,
            "grid_gap": null,
            "max_width": null,
            "order": null,
            "_view_module_version": "1.2.0",
            "grid_template_areas": null,
            "object_position": null,
            "object_fit": null,
            "grid_auto_columns": null,
            "margin": null,
            "display": null,
            "left": null
          }
        },
        "992d9dcefc3d4751accb9b4d462ee254": {
          "model_module": "@jupyter-widgets/controls",
          "model_name": "HBoxModel",
          "state": {
            "_view_name": "HBoxView",
            "_dom_classes": [],
            "_model_name": "HBoxModel",
            "_view_module": "@jupyter-widgets/controls",
            "_model_module_version": "1.5.0",
            "_view_count": null,
            "_view_module_version": "1.5.0",
            "box_style": "",
            "layout": "IPY_MODEL_7e1b7a75d1114935accdb838bbefc2b3",
            "_model_module": "@jupyter-widgets/controls",
            "children": [
              "IPY_MODEL_e08c4d3a536d45d48c168f443d1e31f6",
              "IPY_MODEL_d152d7c8f60a468e8bbc7a46b7cf067c"
            ]
          }
        },
        "7e1b7a75d1114935accdb838bbefc2b3": {
          "model_module": "@jupyter-widgets/base",
          "model_name": "LayoutModel",
          "state": {
            "_view_name": "LayoutView",
            "grid_template_rows": null,
            "right": null,
            "justify_content": null,
            "_view_module": "@jupyter-widgets/base",
            "overflow": null,
            "_model_module_version": "1.2.0",
            "_view_count": null,
            "flex_flow": null,
            "width": null,
            "min_width": null,
            "border": null,
            "align_items": null,
            "bottom": null,
            "_model_module": "@jupyter-widgets/base",
            "top": null,
            "grid_column": null,
            "overflow_y": null,
            "overflow_x": null,
            "grid_auto_flow": null,
            "grid_area": null,
            "grid_template_columns": null,
            "flex": null,
            "_model_name": "LayoutModel",
            "justify_items": null,
            "grid_row": null,
            "max_height": null,
            "align_content": null,
            "visibility": null,
            "align_self": null,
            "height": null,
            "min_height": null,
            "padding": null,
            "grid_auto_rows": null,
            "grid_gap": null,
            "max_width": null,
            "order": null,
            "_view_module_version": "1.2.0",
            "grid_template_areas": null,
            "object_position": null,
            "object_fit": null,
            "grid_auto_columns": null,
            "margin": null,
            "display": null,
            "left": null
          }
        },
        "e08c4d3a536d45d48c168f443d1e31f6": {
          "model_module": "@jupyter-widgets/controls",
          "model_name": "FloatProgressModel",
          "state": {
            "_view_name": "ProgressView",
            "style": "IPY_MODEL_094b8b1be7174f1b90fff48fbcb7b81b",
            "_dom_classes": [],
            "description": "",
            "_model_name": "FloatProgressModel",
            "bar_style": "success",
            "max": 1,
            "_view_module": "@jupyter-widgets/controls",
            "_model_module_version": "1.5.0",
            "value": 1,
            "_view_count": null,
            "_view_module_version": "1.5.0",
            "orientation": "horizontal",
            "min": 0,
            "description_tooltip": null,
            "_model_module": "@jupyter-widgets/controls",
            "layout": "IPY_MODEL_d7206b84af33461dba41ebefdc3429c9"
          }
        },
        "d152d7c8f60a468e8bbc7a46b7cf067c": {
          "model_module": "@jupyter-widgets/controls",
          "model_name": "HTMLModel",
          "state": {
            "_view_name": "HTMLView",
            "style": "IPY_MODEL_ed02e7d3974b4f878ad9a9b8f265ce0a",
            "_dom_classes": [],
            "description": "",
            "_model_name": "HTMLModel",
            "placeholder": "​",
            "_view_module": "@jupyter-widgets/controls",
            "_model_module_version": "1.5.0",
            "value": " 32768/? [00:01&lt;00:00, 31058.96it/s]",
            "_view_count": null,
            "_view_module_version": "1.5.0",
            "description_tooltip": null,
            "_model_module": "@jupyter-widgets/controls",
            "layout": "IPY_MODEL_795b3c4f858c45fc9269173e1cb4cad0"
          }
        },
        "094b8b1be7174f1b90fff48fbcb7b81b": {
          "model_module": "@jupyter-widgets/controls",
          "model_name": "ProgressStyleModel",
          "state": {
            "_view_name": "StyleView",
            "_model_name": "ProgressStyleModel",
            "description_width": "initial",
            "_view_module": "@jupyter-widgets/base",
            "_model_module_version": "1.5.0",
            "_view_count": null,
            "_view_module_version": "1.2.0",
            "bar_color": null,
            "_model_module": "@jupyter-widgets/controls"
          }
        },
        "d7206b84af33461dba41ebefdc3429c9": {
          "model_module": "@jupyter-widgets/base",
          "model_name": "LayoutModel",
          "state": {
            "_view_name": "LayoutView",
            "grid_template_rows": null,
            "right": null,
            "justify_content": null,
            "_view_module": "@jupyter-widgets/base",
            "overflow": null,
            "_model_module_version": "1.2.0",
            "_view_count": null,
            "flex_flow": null,
            "width": null,
            "min_width": null,
            "border": null,
            "align_items": null,
            "bottom": null,
            "_model_module": "@jupyter-widgets/base",
            "top": null,
            "grid_column": null,
            "overflow_y": null,
            "overflow_x": null,
            "grid_auto_flow": null,
            "grid_area": null,
            "grid_template_columns": null,
            "flex": null,
            "_model_name": "LayoutModel",
            "justify_items": null,
            "grid_row": null,
            "max_height": null,
            "align_content": null,
            "visibility": null,
            "align_self": null,
            "height": null,
            "min_height": null,
            "padding": null,
            "grid_auto_rows": null,
            "grid_gap": null,
            "max_width": null,
            "order": null,
            "_view_module_version": "1.2.0",
            "grid_template_areas": null,
            "object_position": null,
            "object_fit": null,
            "grid_auto_columns": null,
            "margin": null,
            "display": null,
            "left": null
          }
        },
        "ed02e7d3974b4f878ad9a9b8f265ce0a": {
          "model_module": "@jupyter-widgets/controls",
          "model_name": "DescriptionStyleModel",
          "state": {
            "_view_name": "StyleView",
            "_model_name": "DescriptionStyleModel",
            "description_width": "",
            "_view_module": "@jupyter-widgets/base",
            "_model_module_version": "1.5.0",
            "_view_count": null,
            "_view_module_version": "1.2.0",
            "_model_module": "@jupyter-widgets/controls"
          }
        },
        "795b3c4f858c45fc9269173e1cb4cad0": {
          "model_module": "@jupyter-widgets/base",
          "model_name": "LayoutModel",
          "state": {
            "_view_name": "LayoutView",
            "grid_template_rows": null,
            "right": null,
            "justify_content": null,
            "_view_module": "@jupyter-widgets/base",
            "overflow": null,
            "_model_module_version": "1.2.0",
            "_view_count": null,
            "flex_flow": null,
            "width": null,
            "min_width": null,
            "border": null,
            "align_items": null,
            "bottom": null,
            "_model_module": "@jupyter-widgets/base",
            "top": null,
            "grid_column": null,
            "overflow_y": null,
            "overflow_x": null,
            "grid_auto_flow": null,
            "grid_area": null,
            "grid_template_columns": null,
            "flex": null,
            "_model_name": "LayoutModel",
            "justify_items": null,
            "grid_row": null,
            "max_height": null,
            "align_content": null,
            "visibility": null,
            "align_self": null,
            "height": null,
            "min_height": null,
            "padding": null,
            "grid_auto_rows": null,
            "grid_gap": null,
            "max_width": null,
            "order": null,
            "_view_module_version": "1.2.0",
            "grid_template_areas": null,
            "object_position": null,
            "object_fit": null,
            "grid_auto_columns": null,
            "margin": null,
            "display": null,
            "left": null
          }
        },
        "fdb4cbd6f1164ba5ba5c2578ab17a38c": {
          "model_module": "@jupyter-widgets/controls",
          "model_name": "HBoxModel",
          "state": {
            "_view_name": "HBoxView",
            "_dom_classes": [],
            "_model_name": "HBoxModel",
            "_view_module": "@jupyter-widgets/controls",
            "_model_module_version": "1.5.0",
            "_view_count": null,
            "_view_module_version": "1.5.0",
            "box_style": "",
            "layout": "IPY_MODEL_1960b35d918c4785b277441bbbd7314e",
            "_model_module": "@jupyter-widgets/controls",
            "children": [
              "IPY_MODEL_9fa4bd6cc03c424b9a21ecb27815aea9",
              "IPY_MODEL_33e0076ee3414660b4bf4f194630beb7"
            ]
          }
        },
        "1960b35d918c4785b277441bbbd7314e": {
          "model_module": "@jupyter-widgets/base",
          "model_name": "LayoutModel",
          "state": {
            "_view_name": "LayoutView",
            "grid_template_rows": null,
            "right": null,
            "justify_content": null,
            "_view_module": "@jupyter-widgets/base",
            "overflow": null,
            "_model_module_version": "1.2.0",
            "_view_count": null,
            "flex_flow": null,
            "width": null,
            "min_width": null,
            "border": null,
            "align_items": null,
            "bottom": null,
            "_model_module": "@jupyter-widgets/base",
            "top": null,
            "grid_column": null,
            "overflow_y": null,
            "overflow_x": null,
            "grid_auto_flow": null,
            "grid_area": null,
            "grid_template_columns": null,
            "flex": null,
            "_model_name": "LayoutModel",
            "justify_items": null,
            "grid_row": null,
            "max_height": null,
            "align_content": null,
            "visibility": null,
            "align_self": null,
            "height": null,
            "min_height": null,
            "padding": null,
            "grid_auto_rows": null,
            "grid_gap": null,
            "max_width": null,
            "order": null,
            "_view_module_version": "1.2.0",
            "grid_template_areas": null,
            "object_position": null,
            "object_fit": null,
            "grid_auto_columns": null,
            "margin": null,
            "display": null,
            "left": null
          }
        },
        "9fa4bd6cc03c424b9a21ecb27815aea9": {
          "model_module": "@jupyter-widgets/controls",
          "model_name": "FloatProgressModel",
          "state": {
            "_view_name": "ProgressView",
            "style": "IPY_MODEL_06b2d31f1b1146ffa83696a31d6050f8",
            "_dom_classes": [],
            "description": "",
            "_model_name": "FloatProgressModel",
            "bar_style": "success",
            "max": 1,
            "_view_module": "@jupyter-widgets/controls",
            "_model_module_version": "1.5.0",
            "value": 1,
            "_view_count": null,
            "_view_module_version": "1.5.0",
            "orientation": "horizontal",
            "min": 0,
            "description_tooltip": null,
            "_model_module": "@jupyter-widgets/controls",
            "layout": "IPY_MODEL_299a13959caa435c831b64f453934600"
          }
        },
        "33e0076ee3414660b4bf4f194630beb7": {
          "model_module": "@jupyter-widgets/controls",
          "model_name": "HTMLModel",
          "state": {
            "_view_name": "HTMLView",
            "style": "IPY_MODEL_decbaa42bd3c4d5983e4964955f8dac5",
            "_dom_classes": [],
            "description": "",
            "_model_name": "HTMLModel",
            "placeholder": "​",
            "_view_module": "@jupyter-widgets/controls",
            "_model_module_version": "1.5.0",
            "value": " 1654784/? [00:00&lt;00:00, 2228966.44it/s]",
            "_view_count": null,
            "_view_module_version": "1.5.0",
            "description_tooltip": null,
            "_model_module": "@jupyter-widgets/controls",
            "layout": "IPY_MODEL_78798b5341ef42479627d2bd49687a38"
          }
        },
        "06b2d31f1b1146ffa83696a31d6050f8": {
          "model_module": "@jupyter-widgets/controls",
          "model_name": "ProgressStyleModel",
          "state": {
            "_view_name": "StyleView",
            "_model_name": "ProgressStyleModel",
            "description_width": "initial",
            "_view_module": "@jupyter-widgets/base",
            "_model_module_version": "1.5.0",
            "_view_count": null,
            "_view_module_version": "1.2.0",
            "bar_color": null,
            "_model_module": "@jupyter-widgets/controls"
          }
        },
        "299a13959caa435c831b64f453934600": {
          "model_module": "@jupyter-widgets/base",
          "model_name": "LayoutModel",
          "state": {
            "_view_name": "LayoutView",
            "grid_template_rows": null,
            "right": null,
            "justify_content": null,
            "_view_module": "@jupyter-widgets/base",
            "overflow": null,
            "_model_module_version": "1.2.0",
            "_view_count": null,
            "flex_flow": null,
            "width": null,
            "min_width": null,
            "border": null,
            "align_items": null,
            "bottom": null,
            "_model_module": "@jupyter-widgets/base",
            "top": null,
            "grid_column": null,
            "overflow_y": null,
            "overflow_x": null,
            "grid_auto_flow": null,
            "grid_area": null,
            "grid_template_columns": null,
            "flex": null,
            "_model_name": "LayoutModel",
            "justify_items": null,
            "grid_row": null,
            "max_height": null,
            "align_content": null,
            "visibility": null,
            "align_self": null,
            "height": null,
            "min_height": null,
            "padding": null,
            "grid_auto_rows": null,
            "grid_gap": null,
            "max_width": null,
            "order": null,
            "_view_module_version": "1.2.0",
            "grid_template_areas": null,
            "object_position": null,
            "object_fit": null,
            "grid_auto_columns": null,
            "margin": null,
            "display": null,
            "left": null
          }
        },
        "decbaa42bd3c4d5983e4964955f8dac5": {
          "model_module": "@jupyter-widgets/controls",
          "model_name": "DescriptionStyleModel",
          "state": {
            "_view_name": "StyleView",
            "_model_name": "DescriptionStyleModel",
            "description_width": "",
            "_view_module": "@jupyter-widgets/base",
            "_model_module_version": "1.5.0",
            "_view_count": null,
            "_view_module_version": "1.2.0",
            "_model_module": "@jupyter-widgets/controls"
          }
        },
        "78798b5341ef42479627d2bd49687a38": {
          "model_module": "@jupyter-widgets/base",
          "model_name": "LayoutModel",
          "state": {
            "_view_name": "LayoutView",
            "grid_template_rows": null,
            "right": null,
            "justify_content": null,
            "_view_module": "@jupyter-widgets/base",
            "overflow": null,
            "_model_module_version": "1.2.0",
            "_view_count": null,
            "flex_flow": null,
            "width": null,
            "min_width": null,
            "border": null,
            "align_items": null,
            "bottom": null,
            "_model_module": "@jupyter-widgets/base",
            "top": null,
            "grid_column": null,
            "overflow_y": null,
            "overflow_x": null,
            "grid_auto_flow": null,
            "grid_area": null,
            "grid_template_columns": null,
            "flex": null,
            "_model_name": "LayoutModel",
            "justify_items": null,
            "grid_row": null,
            "max_height": null,
            "align_content": null,
            "visibility": null,
            "align_self": null,
            "height": null,
            "min_height": null,
            "padding": null,
            "grid_auto_rows": null,
            "grid_gap": null,
            "max_width": null,
            "order": null,
            "_view_module_version": "1.2.0",
            "grid_template_areas": null,
            "object_position": null,
            "object_fit": null,
            "grid_auto_columns": null,
            "margin": null,
            "display": null,
            "left": null
          }
        },
        "58ec9309205240618e8170f7cfd7369d": {
          "model_module": "@jupyter-widgets/controls",
          "model_name": "HBoxModel",
          "state": {
            "_view_name": "HBoxView",
            "_dom_classes": [],
            "_model_name": "HBoxModel",
            "_view_module": "@jupyter-widgets/controls",
            "_model_module_version": "1.5.0",
            "_view_count": null,
            "_view_module_version": "1.5.0",
            "box_style": "",
            "layout": "IPY_MODEL_a656a1ca7c4a4a318761a6bbd4f529a8",
            "_model_module": "@jupyter-widgets/controls",
            "children": [
              "IPY_MODEL_2186aafa8fe943498eb16dc457845ed8",
              "IPY_MODEL_2eb649b617874667b97bd217161567e0"
            ]
          }
        },
        "a656a1ca7c4a4a318761a6bbd4f529a8": {
          "model_module": "@jupyter-widgets/base",
          "model_name": "LayoutModel",
          "state": {
            "_view_name": "LayoutView",
            "grid_template_rows": null,
            "right": null,
            "justify_content": null,
            "_view_module": "@jupyter-widgets/base",
            "overflow": null,
            "_model_module_version": "1.2.0",
            "_view_count": null,
            "flex_flow": null,
            "width": null,
            "min_width": null,
            "border": null,
            "align_items": null,
            "bottom": null,
            "_model_module": "@jupyter-widgets/base",
            "top": null,
            "grid_column": null,
            "overflow_y": null,
            "overflow_x": null,
            "grid_auto_flow": null,
            "grid_area": null,
            "grid_template_columns": null,
            "flex": null,
            "_model_name": "LayoutModel",
            "justify_items": null,
            "grid_row": null,
            "max_height": null,
            "align_content": null,
            "visibility": null,
            "align_self": null,
            "height": null,
            "min_height": null,
            "padding": null,
            "grid_auto_rows": null,
            "grid_gap": null,
            "max_width": null,
            "order": null,
            "_view_module_version": "1.2.0",
            "grid_template_areas": null,
            "object_position": null,
            "object_fit": null,
            "grid_auto_columns": null,
            "margin": null,
            "display": null,
            "left": null
          }
        },
        "2186aafa8fe943498eb16dc457845ed8": {
          "model_module": "@jupyter-widgets/controls",
          "model_name": "FloatProgressModel",
          "state": {
            "_view_name": "ProgressView",
            "style": "IPY_MODEL_8778cad2a18f41dd8659d05dfff72652",
            "_dom_classes": [],
            "description": "  0%",
            "_model_name": "FloatProgressModel",
            "bar_style": "info",
            "max": 1,
            "_view_module": "@jupyter-widgets/controls",
            "_model_module_version": "1.5.0",
            "value": 0,
            "_view_count": null,
            "_view_module_version": "1.5.0",
            "orientation": "horizontal",
            "min": 0,
            "description_tooltip": null,
            "_model_module": "@jupyter-widgets/controls",
            "layout": "IPY_MODEL_1d75cec67d5c47809425f568e7b2c5b5"
          }
        },
        "2eb649b617874667b97bd217161567e0": {
          "model_module": "@jupyter-widgets/controls",
          "model_name": "HTMLModel",
          "state": {
            "_view_name": "HTMLView",
            "style": "IPY_MODEL_ce590eddd2974a5480e1a9e91e91fdb3",
            "_dom_classes": [],
            "description": "",
            "_model_name": "HTMLModel",
            "placeholder": "​",
            "_view_module": "@jupyter-widgets/controls",
            "_model_module_version": "1.5.0",
            "value": " 0/4542 [00:00&lt;?, ?it/s]",
            "_view_count": null,
            "_view_module_version": "1.5.0",
            "description_tooltip": null,
            "_model_module": "@jupyter-widgets/controls",
            "layout": "IPY_MODEL_1e089db4a8844ba2aa1f1acd5757d6d4"
          }
        },
        "8778cad2a18f41dd8659d05dfff72652": {
          "model_module": "@jupyter-widgets/controls",
          "model_name": "ProgressStyleModel",
          "state": {
            "_view_name": "StyleView",
            "_model_name": "ProgressStyleModel",
            "description_width": "initial",
            "_view_module": "@jupyter-widgets/base",
            "_model_module_version": "1.5.0",
            "_view_count": null,
            "_view_module_version": "1.2.0",
            "bar_color": null,
            "_model_module": "@jupyter-widgets/controls"
          }
        },
        "1d75cec67d5c47809425f568e7b2c5b5": {
          "model_module": "@jupyter-widgets/base",
          "model_name": "LayoutModel",
          "state": {
            "_view_name": "LayoutView",
            "grid_template_rows": null,
            "right": null,
            "justify_content": null,
            "_view_module": "@jupyter-widgets/base",
            "overflow": null,
            "_model_module_version": "1.2.0",
            "_view_count": null,
            "flex_flow": null,
            "width": null,
            "min_width": null,
            "border": null,
            "align_items": null,
            "bottom": null,
            "_model_module": "@jupyter-widgets/base",
            "top": null,
            "grid_column": null,
            "overflow_y": null,
            "overflow_x": null,
            "grid_auto_flow": null,
            "grid_area": null,
            "grid_template_columns": null,
            "flex": null,
            "_model_name": "LayoutModel",
            "justify_items": null,
            "grid_row": null,
            "max_height": null,
            "align_content": null,
            "visibility": null,
            "align_self": null,
            "height": null,
            "min_height": null,
            "padding": null,
            "grid_auto_rows": null,
            "grid_gap": null,
            "max_width": null,
            "order": null,
            "_view_module_version": "1.2.0",
            "grid_template_areas": null,
            "object_position": null,
            "object_fit": null,
            "grid_auto_columns": null,
            "margin": null,
            "display": null,
            "left": null
          }
        },
        "ce590eddd2974a5480e1a9e91e91fdb3": {
          "model_module": "@jupyter-widgets/controls",
          "model_name": "DescriptionStyleModel",
          "state": {
            "_view_name": "StyleView",
            "_model_name": "DescriptionStyleModel",
            "description_width": "",
            "_view_module": "@jupyter-widgets/base",
            "_model_module_version": "1.5.0",
            "_view_count": null,
            "_view_module_version": "1.2.0",
            "_model_module": "@jupyter-widgets/controls"
          }
        },
        "1e089db4a8844ba2aa1f1acd5757d6d4": {
          "model_module": "@jupyter-widgets/base",
          "model_name": "LayoutModel",
          "state": {
            "_view_name": "LayoutView",
            "grid_template_rows": null,
            "right": null,
            "justify_content": null,
            "_view_module": "@jupyter-widgets/base",
            "overflow": null,
            "_model_module_version": "1.2.0",
            "_view_count": null,
            "flex_flow": null,
            "width": null,
            "min_width": null,
            "border": null,
            "align_items": null,
            "bottom": null,
            "_model_module": "@jupyter-widgets/base",
            "top": null,
            "grid_column": null,
            "overflow_y": null,
            "overflow_x": null,
            "grid_auto_flow": null,
            "grid_area": null,
            "grid_template_columns": null,
            "flex": null,
            "_model_name": "LayoutModel",
            "justify_items": null,
            "grid_row": null,
            "max_height": null,
            "align_content": null,
            "visibility": null,
            "align_self": null,
            "height": null,
            "min_height": null,
            "padding": null,
            "grid_auto_rows": null,
            "grid_gap": null,
            "max_width": null,
            "order": null,
            "_view_module_version": "1.2.0",
            "grid_template_areas": null,
            "object_position": null,
            "object_fit": null,
            "grid_auto_columns": null,
            "margin": null,
            "display": null,
            "left": null
          }
        }
      }
    }
  },
  "cells": [
    {
      "cell_type": "markdown",
      "metadata": {
        "id": "n70yoTJ6jIFK"
      },
      "source": [
        "# Your First (But Admittedly Boring) Neural Network"
      ]
    },
    {
      "cell_type": "markdown",
      "metadata": {
        "id": "-yYfFapAjIFL"
      },
      "source": [
        "Shamelessly copied from the PyTorch example."
      ]
    },
    {
      "cell_type": "markdown",
      "metadata": {
        "id": "4odc2iZfjIFM"
      },
      "source": [
        "# First, let's import some stuff we'll need"
      ]
    },
    {
      "cell_type": "code",
      "metadata": {
        "id": "HsAAVjsejIFN"
      },
      "source": [
        "import torch\n",
        "import torch.nn as nn\n",
        "import torch.nn.functional as F\n",
        "import torch.optim as optim\n",
        "from torchvision import datasets, transforms\n",
        "from torch.optim.lr_scheduler import StepLR"
      ],
      "execution_count": 1,
      "outputs": []
    },
    {
      "cell_type": "markdown",
      "metadata": {
        "id": "AG3ipG5OjIFR"
      },
      "source": [
        "# Set up some functions we need (but you don't need to understand them now)"
      ]
    },
    {
      "cell_type": "code",
      "metadata": {
        "id": "1JBPrayMjIFS"
      },
      "source": [
        "class Net(nn.Module):\n",
        "    \n",
        "    def __init__(self):\n",
        "        super(Net, self).__init__()\n",
        "        self.fc1 = nn.Linear(784, 128)\n",
        "        self.fc2 = nn.Linear(128, 10)\n",
        "\n",
        "    def forward(self, x):\n",
        "        x = self.fc1(x.view((-1, 28 * 28)))\n",
        "        x = self.fc2(x)\n",
        "        output = F.log_softmax(x, dim=1)\n",
        "        return output"
      ],
      "execution_count": 2,
      "outputs": []
    },
    {
      "cell_type": "code",
      "metadata": {
        "id": "kkJruwkrjIFW"
      },
      "source": [
        "def train(model, device, train_loader, optimizer, epoch):\n",
        "    model.train()\n",
        "    for batch_idx, (data, target) in enumerate(train_loader):\n",
        "        data, target = data.to(device), target.to(device)\n",
        "        optimizer.zero_grad()\n",
        "        output = model(data)\n",
        "        loss = F.nll_loss(output, target)\n",
        "        loss.backward()\n",
        "        optimizer.step()\n",
        "        if batch_idx % 100 == 0:\n",
        "            print('Train Epoch: {} [{}/{} ({:.0f}%)]\\tLoss: {:.6f}'.format(\n",
        "                epoch, batch_idx * len(data), len(train_loader.dataset),\n",
        "                100. * batch_idx / len(train_loader), loss.item()))"
      ],
      "execution_count": 5,
      "outputs": []
    },
    {
      "cell_type": "code",
      "metadata": {
        "id": "c51y688-jIFZ"
      },
      "source": [
        "def test(model, device, test_loader):\n",
        "    model.eval()\n",
        "    test_loss = 0\n",
        "    correct = 0\n",
        "    with torch.no_grad():\n",
        "        for data, target in test_loader:\n",
        "            data, target = data.to(device), target.to(device)\n",
        "            output = model(data)\n",
        "            test_loss += F.nll_loss(output, target, reduction='sum').item()  # sum up batch loss\n",
        "            pred = output.argmax(dim=1, keepdim=True)  # get the index of the max log-probability\n",
        "            correct += pred.eq(target.view_as(pred)).sum().item()\n",
        "\n",
        "    test_loss /= len(test_loader.dataset)\n",
        "\n",
        "    print('\\nTest set: Average loss: {:.4f}, Accuracy: {}/{} ({:.0f}%)\\n'.format(\n",
        "        test_loss, correct, len(test_loader.dataset),\n",
        "        100. * correct / len(test_loader.dataset)))"
      ],
      "execution_count": 6,
      "outputs": []
    },
    {
      "cell_type": "markdown",
      "metadata": {
        "id": "o79Af4QhjIFc"
      },
      "source": [
        "# Get the data and do some preprocessing"
      ]
    },
    {
      "cell_type": "code",
      "metadata": {
        "id": "70i5NSfrjIFd",
        "outputId": "b3ea62d5-0f42-4da0-cf7f-fc5462d881d8",
        "colab": {
          "base_uri": "https://localhost:8080/",
          "height": 400,
          "referenced_widgets": [
            "2be2c227b6b04027a9eb9323f83ade03",
            "e1382813f08149a8854bdc73bd8e990d",
            "e319d87436ff4a87acca57f715569942",
            "8de8cc791b7d4151b24cf2b286e212fa",
            "6c64fe5c36944af29aa2cf5df065a57d",
            "f53f922d58114c4092d344aa3ee3de1f",
            "12e63cbbdf594b5fb022a5b98fe49fae",
            "19e5b78b94054fbaa66a22bbb7585393",
            "992d9dcefc3d4751accb9b4d462ee254",
            "7e1b7a75d1114935accdb838bbefc2b3",
            "e08c4d3a536d45d48c168f443d1e31f6",
            "d152d7c8f60a468e8bbc7a46b7cf067c",
            "094b8b1be7174f1b90fff48fbcb7b81b",
            "d7206b84af33461dba41ebefdc3429c9",
            "ed02e7d3974b4f878ad9a9b8f265ce0a",
            "795b3c4f858c45fc9269173e1cb4cad0",
            "fdb4cbd6f1164ba5ba5c2578ab17a38c",
            "1960b35d918c4785b277441bbbd7314e",
            "9fa4bd6cc03c424b9a21ecb27815aea9",
            "33e0076ee3414660b4bf4f194630beb7",
            "06b2d31f1b1146ffa83696a31d6050f8",
            "299a13959caa435c831b64f453934600",
            "decbaa42bd3c4d5983e4964955f8dac5",
            "78798b5341ef42479627d2bd49687a38",
            "58ec9309205240618e8170f7cfd7369d",
            "a656a1ca7c4a4a318761a6bbd4f529a8",
            "2186aafa8fe943498eb16dc457845ed8",
            "2eb649b617874667b97bd217161567e0",
            "8778cad2a18f41dd8659d05dfff72652",
            "1d75cec67d5c47809425f568e7b2c5b5",
            "ce590eddd2974a5480e1a9e91e91fdb3",
            "1e089db4a8844ba2aa1f1acd5757d6d4"
          ]
        }
      },
      "source": [
        "transform=transforms.Compose([\n",
        "    transforms.ToTensor(),\n",
        "    transforms.Normalize((0.1307,), (0.3081,))\n",
        "    ])\n",
        "\n",
        "\n",
        "train_ds = datasets.MNIST('../data', train=True, download=True,\n",
        "                   transform=transform)\n",
        "valid_ds = datasets.MNIST('../data', train=False,\n",
        "                   transform=transform)\n",
        "\n",
        "train_dl = torch.utils.data.DataLoader(train_ds, batch_size = 32)\n",
        "valid_dl = torch.utils.data.DataLoader(valid_ds, batch_size = 32)"
      ],
      "execution_count": 7,
      "outputs": [
        {
          "output_type": "stream",
          "text": [
            "Downloading http://yann.lecun.com/exdb/mnist/train-images-idx3-ubyte.gz to ../data/MNIST/raw/train-images-idx3-ubyte.gz\n"
          ],
          "name": "stdout"
        },
        {
          "output_type": "display_data",
          "data": {
            "application/vnd.jupyter.widget-view+json": {
              "model_id": "2be2c227b6b04027a9eb9323f83ade03",
              "version_minor": 0,
              "version_major": 2
            },
            "text/plain": [
              "HBox(children=(FloatProgress(value=1.0, bar_style='info', max=1.0), HTML(value='')))"
            ]
          },
          "metadata": {
            "tags": []
          }
        },
        {
          "output_type": "stream",
          "text": [
            "Extracting ../data/MNIST/raw/train-images-idx3-ubyte.gz to ../data/MNIST/raw\n",
            "Downloading http://yann.lecun.com/exdb/mnist/train-labels-idx1-ubyte.gz to ../data/MNIST/raw/train-labels-idx1-ubyte.gz\n"
          ],
          "name": "stdout"
        },
        {
          "output_type": "display_data",
          "data": {
            "application/vnd.jupyter.widget-view+json": {
              "model_id": "992d9dcefc3d4751accb9b4d462ee254",
              "version_minor": 0,
              "version_major": 2
            },
            "text/plain": [
              "HBox(children=(FloatProgress(value=1.0, bar_style='info', max=1.0), HTML(value='')))"
            ]
          },
          "metadata": {
            "tags": []
          }
        },
        {
          "output_type": "stream",
          "text": [
            "Extracting ../data/MNIST/raw/train-labels-idx1-ubyte.gz to ../data/MNIST/raw\n",
            "Downloading http://yann.lecun.com/exdb/mnist/t10k-images-idx3-ubyte.gz to ../data/MNIST/raw/t10k-images-idx3-ubyte.gz\n"
          ],
          "name": "stdout"
        },
        {
          "output_type": "display_data",
          "data": {
            "application/vnd.jupyter.widget-view+json": {
              "model_id": "fdb4cbd6f1164ba5ba5c2578ab17a38c",
              "version_minor": 0,
              "version_major": 2
            },
            "text/plain": [
              "HBox(children=(FloatProgress(value=1.0, bar_style='info', max=1.0), HTML(value='')))"
            ]
          },
          "metadata": {
            "tags": []
          }
        },
        {
          "output_type": "stream",
          "text": [
            "Extracting ../data/MNIST/raw/t10k-images-idx3-ubyte.gz to ../data/MNIST/raw\n",
            "Downloading http://yann.lecun.com/exdb/mnist/t10k-labels-idx1-ubyte.gz to ../data/MNIST/raw/t10k-labels-idx1-ubyte.gz\n",
            "\n",
            "\n"
          ],
          "name": "stdout"
        },
        {
          "output_type": "display_data",
          "data": {
            "application/vnd.jupyter.widget-view+json": {
              "model_id": "58ec9309205240618e8170f7cfd7369d",
              "version_minor": 0,
              "version_major": 2
            },
            "text/plain": [
              "HBox(children=(FloatProgress(value=1.0, bar_style='info', max=1.0), HTML(value='')))"
            ]
          },
          "metadata": {
            "tags": []
          }
        },
        {
          "output_type": "stream",
          "text": [
            "Extracting ../data/MNIST/raw/t10k-labels-idx1-ubyte.gz to ../data/MNIST/raw\n",
            "Processing...\n",
            "Done!\n"
          ],
          "name": "stdout"
        },
        {
          "output_type": "stream",
          "text": [
            "/usr/local/lib/python3.6/dist-packages/torchvision/datasets/mnist.py:469: UserWarning: The given NumPy array is not writeable, and PyTorch does not support non-writeable tensors. This means you can write to the underlying (supposedly non-writeable) NumPy array using the tensor. You may want to copy the array to protect its data or make it writeable before converting it to a tensor. This type of warning will be suppressed for the rest of this program. (Triggered internally at  /pytorch/torch/csrc/utils/tensor_numpy.cpp:141.)\n",
            "  return torch.from_numpy(parsed.astype(m[2], copy=False)).view(*s)\n"
          ],
          "name": "stderr"
        }
      ]
    },
    {
      "cell_type": "markdown",
      "metadata": {
        "id": "LjiW6i_VjIFg"
      },
      "source": [
        "# Making sure everything has the right shape"
      ]
    },
    {
      "cell_type": "code",
      "metadata": {
        "id": "L08SzzdojIFg",
        "outputId": "8ca03a60-58e5-43fe-bd10-ff271ff7f10b",
        "colab": {
          "base_uri": "https://localhost:8080/",
          "height": 1000
        }
      },
      "source": [
        "train_ds[0][0].shape\n",
        "\n",
        "train_ds[0][0].flatten(start_dim=1, end_dim=2).shape\n",
        "train_ds[0][0][0].numpy()"
      ],
      "execution_count": 13,
      "outputs": [
        {
          "output_type": "execute_result",
          "data": {
            "text/plain": [
              "array([[-0.42421296, -0.42421296, -0.42421296, -0.42421296, -0.42421296,\n",
              "        -0.42421296, -0.42421296, -0.42421296, -0.42421296, -0.42421296,\n",
              "        -0.42421296, -0.42421296, -0.42421296, -0.42421296, -0.42421296,\n",
              "        -0.42421296, -0.42421296, -0.42421296, -0.42421296, -0.42421296,\n",
              "        -0.42421296, -0.42421296, -0.42421296, -0.42421296, -0.42421296,\n",
              "        -0.42421296, -0.42421296, -0.42421296],\n",
              "       [-0.42421296, -0.42421296, -0.42421296, -0.42421296, -0.42421296,\n",
              "        -0.42421296, -0.42421296, -0.42421296, -0.42421296, -0.42421296,\n",
              "        -0.42421296, -0.42421296, -0.42421296, -0.42421296, -0.42421296,\n",
              "        -0.42421296, -0.42421296, -0.42421296, -0.42421296, -0.42421296,\n",
              "        -0.42421296, -0.42421296, -0.42421296, -0.42421296, -0.42421296,\n",
              "        -0.42421296, -0.42421296, -0.42421296],\n",
              "       [-0.42421296, -0.42421296, -0.42421296, -0.42421296, -0.42421296,\n",
              "        -0.42421296, -0.42421296, -0.42421296, -0.42421296, -0.42421296,\n",
              "        -0.42421296, -0.42421296, -0.42421296, -0.42421296, -0.42421296,\n",
              "        -0.42421296, -0.42421296, -0.42421296, -0.42421296, -0.42421296,\n",
              "        -0.42421296, -0.42421296, -0.42421296, -0.42421296, -0.42421296,\n",
              "        -0.42421296, -0.42421296, -0.42421296],\n",
              "       [-0.42421296, -0.42421296, -0.42421296, -0.42421296, -0.42421296,\n",
              "        -0.42421296, -0.42421296, -0.42421296, -0.42421296, -0.42421296,\n",
              "        -0.42421296, -0.42421296, -0.42421296, -0.42421296, -0.42421296,\n",
              "        -0.42421296, -0.42421296, -0.42421296, -0.42421296, -0.42421296,\n",
              "        -0.42421296, -0.42421296, -0.42421296, -0.42421296, -0.42421296,\n",
              "        -0.42421296, -0.42421296, -0.42421296],\n",
              "       [-0.42421296, -0.42421296, -0.42421296, -0.42421296, -0.42421296,\n",
              "        -0.42421296, -0.42421296, -0.42421296, -0.42421296, -0.42421296,\n",
              "        -0.42421296, -0.42421296, -0.42421296, -0.42421296, -0.42421296,\n",
              "        -0.42421296, -0.42421296, -0.42421296, -0.42421296, -0.42421296,\n",
              "        -0.42421296, -0.42421296, -0.42421296, -0.42421296, -0.42421296,\n",
              "        -0.42421296, -0.42421296, -0.42421296],\n",
              "       [-0.42421296, -0.42421296, -0.42421296, -0.42421296, -0.42421296,\n",
              "        -0.42421296, -0.42421296, -0.42421296, -0.42421296, -0.42421296,\n",
              "        -0.42421296, -0.42421296, -0.38602826, -0.19510475, -0.19510475,\n",
              "        -0.19510475,  1.1795444 ,  1.306827  ,  1.803228  , -0.09327888,\n",
              "         1.688674  ,  2.8214867 ,  2.7196608 ,  1.1922727 , -0.42421296,\n",
              "        -0.42421296, -0.42421296, -0.42421296],\n",
              "       [-0.42421296, -0.42421296, -0.42421296, -0.42421296, -0.42421296,\n",
              "        -0.42421296, -0.42421296, -0.42421296, -0.04236595,  0.03400347,\n",
              "         0.77224106,  1.5359352 ,  1.7395868 ,  2.7960303 ,  2.7960303 ,\n",
              "         2.7960303 ,  2.7960303 ,  2.7960303 ,  2.4396398 ,  1.7650434 ,\n",
              "         2.7960303 ,  2.6560197 ,  2.0577927 ,  0.39039403, -0.42421296,\n",
              "        -0.42421296, -0.42421296, -0.42421296],\n",
              "       [-0.42421296, -0.42421296, -0.42421296, -0.42421296, -0.42421296,\n",
              "        -0.42421296, -0.42421296,  0.1994705 ,  2.6051068 ,  2.7960303 ,\n",
              "         2.7960303 ,  2.7960303 ,  2.7960303 ,  2.7960303 ,  2.7960303 ,\n",
              "         2.7960303 ,  2.7960303 ,  2.7705739 ,  0.7595128 ,  0.61950225,\n",
              "         0.61950225,  0.28856814,  0.07218818, -0.42421296, -0.42421296,\n",
              "        -0.42421296, -0.42421296, -0.42421296],\n",
              "       [-0.42421296, -0.42421296, -0.42421296, -0.42421296, -0.42421296,\n",
              "        -0.42421296, -0.42421296, -0.19510475,  2.3632703 ,  2.7960303 ,\n",
              "         2.7960303 ,  2.7960303 ,  2.7960303 ,  2.7960303 ,  2.0959773 ,\n",
              "         1.8923256 ,  2.7196608 ,  2.6432915 , -0.42421296, -0.42421296,\n",
              "        -0.42421296, -0.42421296, -0.42421296, -0.42421296, -0.42421296,\n",
              "        -0.42421296, -0.42421296, -0.42421296],\n",
              "       [-0.42421296, -0.42421296, -0.42421296, -0.42421296, -0.42421296,\n",
              "        -0.42421296, -0.42421296, -0.42421296,  0.59404576,  1.5613916 ,\n",
              "         0.937708  ,  2.7960303 ,  2.7960303 ,  2.185075  , -0.2842024 ,\n",
              "        -0.42421296,  0.12310111,  1.5359352 , -0.42421296, -0.42421296,\n",
              "        -0.42421296, -0.42421296, -0.42421296, -0.42421296, -0.42421296,\n",
              "        -0.42421296, -0.42421296, -0.42421296],\n",
              "       [-0.42421296, -0.42421296, -0.42421296, -0.42421296, -0.42421296,\n",
              "        -0.42421296, -0.42421296, -0.42421296, -0.42421296, -0.2460177 ,\n",
              "        -0.41148472,  1.5359352 ,  2.7960303 ,  0.7213281 , -0.42421296,\n",
              "        -0.42421296, -0.42421296, -0.42421296, -0.42421296, -0.42421296,\n",
              "        -0.42421296, -0.42421296, -0.42421296, -0.42421296, -0.42421296,\n",
              "        -0.42421296, -0.42421296, -0.42421296],\n",
              "       [-0.42421296, -0.42421296, -0.42421296, -0.42421296, -0.42421296,\n",
              "        -0.42421296, -0.42421296, -0.42421296, -0.42421296, -0.42421296,\n",
              "        -0.42421296,  1.3450117 ,  2.7960303 ,  1.9941516 , -0.3987565 ,\n",
              "        -0.42421296, -0.42421296, -0.42421296, -0.42421296, -0.42421296,\n",
              "        -0.42421296, -0.42421296, -0.42421296, -0.42421296, -0.42421296,\n",
              "        -0.42421296, -0.42421296, -0.42421296],\n",
              "       [-0.42421296, -0.42421296, -0.42421296, -0.42421296, -0.42421296,\n",
              "        -0.42421296, -0.42421296, -0.42421296, -0.42421296, -0.42421296,\n",
              "        -0.42421296, -0.2842024 ,  1.9941516 ,  2.7960303 ,  0.46676344,\n",
              "        -0.42421296, -0.42421296, -0.42421296, -0.42421296, -0.42421296,\n",
              "        -0.42421296, -0.42421296, -0.42421296, -0.42421296, -0.42421296,\n",
              "        -0.42421296, -0.42421296, -0.42421296],\n",
              "       [-0.42421296, -0.42421296, -0.42421296, -0.42421296, -0.42421296,\n",
              "        -0.42421296, -0.42421296, -0.42421296, -0.42421296, -0.42421296,\n",
              "        -0.42421296, -0.42421296,  0.02127524,  2.6432915 ,  2.4396398 ,\n",
              "         1.6123046 ,  0.95043623, -0.41148472, -0.42421296, -0.42421296,\n",
              "        -0.42421296, -0.42421296, -0.42421296, -0.42421296, -0.42421296,\n",
              "        -0.42421296, -0.42421296, -0.42421296],\n",
              "       [-0.42421296, -0.42421296, -0.42421296, -0.42421296, -0.42421296,\n",
              "        -0.42421296, -0.42421296, -0.42421296, -0.42421296, -0.42421296,\n",
              "        -0.42421296, -0.42421296, -0.42421296,  0.60677403,  2.6305633 ,\n",
              "         2.7960303 ,  2.7960303 ,  1.0904468 , -0.10600711, -0.42421296,\n",
              "        -0.42421296, -0.42421296, -0.42421296, -0.42421296, -0.42421296,\n",
              "        -0.42421296, -0.42421296, -0.42421296],\n",
              "       [-0.42421296, -0.42421296, -0.42421296, -0.42421296, -0.42421296,\n",
              "        -0.42421296, -0.42421296, -0.42421296, -0.42421296, -0.42421296,\n",
              "        -0.42421296, -0.42421296, -0.42421296, -0.42421296,  0.14855757,\n",
              "         1.9432386 ,  2.7960303 ,  2.7960303 ,  1.4850222 , -0.08055065,\n",
              "        -0.42421296, -0.42421296, -0.42421296, -0.42421296, -0.42421296,\n",
              "        -0.42421296, -0.42421296, -0.42421296],\n",
              "       [-0.42421296, -0.42421296, -0.42421296, -0.42421296, -0.42421296,\n",
              "        -0.42421296, -0.42421296, -0.42421296, -0.42421296, -0.42421296,\n",
              "        -0.42421296, -0.42421296, -0.42421296, -0.42421296, -0.42421296,\n",
              "        -0.2205612 ,  0.7595128 ,  2.783302  ,  2.7960303 ,  1.9559668 ,\n",
              "        -0.42421296, -0.42421296, -0.42421296, -0.42421296, -0.42421296,\n",
              "        -0.42421296, -0.42421296, -0.42421296],\n",
              "       [-0.42421296, -0.42421296, -0.42421296, -0.42421296, -0.42421296,\n",
              "        -0.42421296, -0.42421296, -0.42421296, -0.42421296, -0.42421296,\n",
              "        -0.42421296, -0.42421296, -0.42421296, -0.42421296, -0.42421296,\n",
              "        -0.42421296, -0.42421296,  2.7451172 ,  2.7960303 ,  2.7451172 ,\n",
              "         0.39039403, -0.42421296, -0.42421296, -0.42421296, -0.42421296,\n",
              "        -0.42421296, -0.42421296, -0.42421296],\n",
              "       [-0.42421296, -0.42421296, -0.42421296, -0.42421296, -0.42421296,\n",
              "        -0.42421296, -0.42421296, -0.42421296, -0.42421296, -0.42421296,\n",
              "        -0.42421296, -0.42421296, -0.42421296, -0.42421296,  0.1612858 ,\n",
              "         1.2304575 ,  1.905054  ,  2.7960303 ,  2.7960303 ,  2.2105315 ,\n",
              "        -0.3987565 , -0.42421296, -0.42421296, -0.42421296, -0.42421296,\n",
              "        -0.42421296, -0.42421296, -0.42421296],\n",
              "       [-0.42421296, -0.42421296, -0.42421296, -0.42421296, -0.42421296,\n",
              "        -0.42421296, -0.42421296, -0.42421296, -0.42421296, -0.42421296,\n",
              "        -0.42421296, -0.42421296,  0.07218818,  1.4595658 ,  2.4905527 ,\n",
              "         2.7960303 ,  2.7960303 ,  2.7960303 ,  2.7578456 ,  1.8923256 ,\n",
              "        -0.42421296, -0.42421296, -0.42421296, -0.42421296, -0.42421296,\n",
              "        -0.42421296, -0.42421296, -0.42421296],\n",
              "       [-0.42421296, -0.42421296, -0.42421296, -0.42421296, -0.42421296,\n",
              "        -0.42421296, -0.42421296, -0.42421296, -0.42421296, -0.42421296,\n",
              "        -0.11873534,  1.0268056 ,  2.3887267 ,  2.7960303 ,  2.7960303 ,\n",
              "         2.7960303 ,  2.7960303 ,  2.1341622 ,  0.5685893 , -0.42421296,\n",
              "        -0.42421296, -0.42421296, -0.42421296, -0.42421296, -0.42421296,\n",
              "        -0.42421296, -0.42421296, -0.42421296],\n",
              "       [-0.42421296, -0.42421296, -0.42421296, -0.42421296, -0.42421296,\n",
              "        -0.42421296, -0.42421296, -0.42421296, -0.13146357,  0.41585052,\n",
              "         2.286901  ,  2.7960303 ,  2.7960303 ,  2.7960303 ,  2.7960303 ,\n",
              "         2.0959773 ,  0.60677403, -0.3987565 , -0.42421296, -0.42421296,\n",
              "        -0.42421296, -0.42421296, -0.42421296, -0.42421296, -0.42421296,\n",
              "        -0.42421296, -0.42421296, -0.42421296],\n",
              "       [-0.42421296, -0.42421296, -0.42421296, -0.42421296, -0.42421296,\n",
              "        -0.42421296, -0.19510475,  1.7523152 ,  2.3632703 ,  2.7960303 ,\n",
              "         2.7960303 ,  2.7960303 ,  2.7960303 ,  2.0577927 ,  0.59404576,\n",
              "        -0.30965886, -0.42421296, -0.42421296, -0.42421296, -0.42421296,\n",
              "        -0.42421296, -0.42421296, -0.42421296, -0.42421296, -0.42421296,\n",
              "        -0.42421296, -0.42421296, -0.42421296],\n",
              "       [-0.42421296, -0.42421296, -0.42421296, -0.42421296,  0.2758399 ,\n",
              "         1.7650434 ,  2.452368  ,  2.7960303 ,  2.7960303 ,  2.7960303 ,\n",
              "         2.7960303 ,  2.681476  ,  1.2686423 , -0.2842024 , -0.42421296,\n",
              "        -0.42421296, -0.42421296, -0.42421296, -0.42421296, -0.42421296,\n",
              "        -0.42421296, -0.42421296, -0.42421296, -0.42421296, -0.42421296,\n",
              "        -0.42421296, -0.42421296, -0.42421296],\n",
              "       [-0.42421296, -0.42421296, -0.42421296, -0.42421296,  1.306827  ,\n",
              "         2.7960303 ,  2.7960303 ,  2.7960303 ,  2.2741728 ,  1.2940987 ,\n",
              "         1.2559141 , -0.2205612 , -0.42421296, -0.42421296, -0.42421296,\n",
              "        -0.42421296, -0.42421296, -0.42421296, -0.42421296, -0.42421296,\n",
              "        -0.42421296, -0.42421296, -0.42421296, -0.42421296, -0.42421296,\n",
              "        -0.42421296, -0.42421296, -0.42421296],\n",
              "       [-0.42421296, -0.42421296, -0.42421296, -0.42421296, -0.42421296,\n",
              "        -0.42421296, -0.42421296, -0.42421296, -0.42421296, -0.42421296,\n",
              "        -0.42421296, -0.42421296, -0.42421296, -0.42421296, -0.42421296,\n",
              "        -0.42421296, -0.42421296, -0.42421296, -0.42421296, -0.42421296,\n",
              "        -0.42421296, -0.42421296, -0.42421296, -0.42421296, -0.42421296,\n",
              "        -0.42421296, -0.42421296, -0.42421296],\n",
              "       [-0.42421296, -0.42421296, -0.42421296, -0.42421296, -0.42421296,\n",
              "        -0.42421296, -0.42421296, -0.42421296, -0.42421296, -0.42421296,\n",
              "        -0.42421296, -0.42421296, -0.42421296, -0.42421296, -0.42421296,\n",
              "        -0.42421296, -0.42421296, -0.42421296, -0.42421296, -0.42421296,\n",
              "        -0.42421296, -0.42421296, -0.42421296, -0.42421296, -0.42421296,\n",
              "        -0.42421296, -0.42421296, -0.42421296],\n",
              "       [-0.42421296, -0.42421296, -0.42421296, -0.42421296, -0.42421296,\n",
              "        -0.42421296, -0.42421296, -0.42421296, -0.42421296, -0.42421296,\n",
              "        -0.42421296, -0.42421296, -0.42421296, -0.42421296, -0.42421296,\n",
              "        -0.42421296, -0.42421296, -0.42421296, -0.42421296, -0.42421296,\n",
              "        -0.42421296, -0.42421296, -0.42421296, -0.42421296, -0.42421296,\n",
              "        -0.42421296, -0.42421296, -0.42421296]], dtype=float32)"
            ]
          },
          "metadata": {
            "tags": []
          },
          "execution_count": 13
        }
      ]
    },
    {
      "cell_type": "markdown",
      "metadata": {
        "id": "beRMI-pJjIFk"
      },
      "source": [
        "# Initializing the model and optimizer"
      ]
    },
    {
      "cell_type": "code",
      "metadata": {
        "id": "BSaSA2NzjIFk"
      },
      "source": [
        "model = Net()\n",
        "optimizer = optim.Adam(model.parameters(), lr=1e-3)\n",
        "\n",
        "epochs = 10\n",
        "\n",
        "device = torch.device('cpu')"
      ],
      "execution_count": 14,
      "outputs": []
    },
    {
      "cell_type": "markdown",
      "metadata": {
        "id": "6u89pk5PjIFo"
      },
      "source": [
        "# Training time!"
      ]
    },
    {
      "cell_type": "code",
      "metadata": {
        "id": "Njh01tonjIFo",
        "outputId": "a1661f5d-4227-4f8a-93aa-8fd618a04ba6",
        "colab": {
          "base_uri": "https://localhost:8080/",
          "height": 1000
        }
      },
      "source": [
        "for epoch in range(1, epochs):\n",
        "    train(model, device, train_dl, optimizer, epoch)\n",
        "    test(model, device, valid_dl)"
      ],
      "execution_count": 10,
      "outputs": [
        {
          "output_type": "stream",
          "text": [
            "Train Epoch: 1 [0/60000 (0%)]\tLoss: 2.335682\n",
            "Train Epoch: 1 [3200/60000 (5%)]\tLoss: 0.544793\n",
            "Train Epoch: 1 [6400/60000 (11%)]\tLoss: 0.406264\n",
            "Train Epoch: 1 [9600/60000 (16%)]\tLoss: 0.261447\n",
            "Train Epoch: 1 [12800/60000 (21%)]\tLoss: 0.312997\n",
            "Train Epoch: 1 [16000/60000 (27%)]\tLoss: 0.396153\n",
            "Train Epoch: 1 [19200/60000 (32%)]\tLoss: 0.255245\n",
            "Train Epoch: 1 [22400/60000 (37%)]\tLoss: 0.232460\n",
            "Train Epoch: 1 [25600/60000 (43%)]\tLoss: 0.301933\n",
            "Train Epoch: 1 [28800/60000 (48%)]\tLoss: 0.320268\n",
            "Train Epoch: 1 [32000/60000 (53%)]\tLoss: 0.644341\n",
            "Train Epoch: 1 [35200/60000 (59%)]\tLoss: 0.208651\n",
            "Train Epoch: 1 [38400/60000 (64%)]\tLoss: 0.317742\n",
            "Train Epoch: 1 [41600/60000 (69%)]\tLoss: 0.448457\n",
            "Train Epoch: 1 [44800/60000 (75%)]\tLoss: 0.294242\n",
            "Train Epoch: 1 [48000/60000 (80%)]\tLoss: 0.264078\n",
            "Train Epoch: 1 [51200/60000 (85%)]\tLoss: 0.586832\n",
            "Train Epoch: 1 [54400/60000 (91%)]\tLoss: 0.326815\n",
            "Train Epoch: 1 [57600/60000 (96%)]\tLoss: 0.350068\n",
            "\n",
            "Test set: Average loss: 0.4017, Accuracy: 8836/10000 (88%)\n",
            "\n",
            "Train Epoch: 2 [0/60000 (0%)]\tLoss: 0.259827\n",
            "Train Epoch: 2 [3200/60000 (5%)]\tLoss: 0.681677\n",
            "Train Epoch: 2 [6400/60000 (11%)]\tLoss: 0.368218\n",
            "Train Epoch: 2 [9600/60000 (16%)]\tLoss: 0.171306\n",
            "Train Epoch: 2 [12800/60000 (21%)]\tLoss: 0.197664\n",
            "Train Epoch: 2 [16000/60000 (27%)]\tLoss: 0.383261\n",
            "Train Epoch: 2 [19200/60000 (32%)]\tLoss: 0.226143\n",
            "Train Epoch: 2 [22400/60000 (37%)]\tLoss: 0.187654\n",
            "Train Epoch: 2 [25600/60000 (43%)]\tLoss: 0.282587\n",
            "Train Epoch: 2 [28800/60000 (48%)]\tLoss: 0.274367\n",
            "Train Epoch: 2 [32000/60000 (53%)]\tLoss: 0.541952\n",
            "Train Epoch: 2 [35200/60000 (59%)]\tLoss: 0.184492\n",
            "Train Epoch: 2 [38400/60000 (64%)]\tLoss: 0.317479\n",
            "Train Epoch: 2 [41600/60000 (69%)]\tLoss: 0.418744\n",
            "Train Epoch: 2 [44800/60000 (75%)]\tLoss: 0.254227\n",
            "Train Epoch: 2 [48000/60000 (80%)]\tLoss: 0.230994\n",
            "Train Epoch: 2 [51200/60000 (85%)]\tLoss: 0.559950\n",
            "Train Epoch: 2 [54400/60000 (91%)]\tLoss: 0.292037\n",
            "Train Epoch: 2 [57600/60000 (96%)]\tLoss: 0.346348\n",
            "\n",
            "Test set: Average loss: 0.3828, Accuracy: 8888/10000 (89%)\n",
            "\n",
            "Train Epoch: 3 [0/60000 (0%)]\tLoss: 0.235232\n",
            "Train Epoch: 3 [3200/60000 (5%)]\tLoss: 0.676595\n",
            "Train Epoch: 3 [6400/60000 (11%)]\tLoss: 0.360590\n",
            "Train Epoch: 3 [9600/60000 (16%)]\tLoss: 0.176872\n",
            "Train Epoch: 3 [12800/60000 (21%)]\tLoss: 0.185568\n",
            "Train Epoch: 3 [16000/60000 (27%)]\tLoss: 0.379253\n",
            "Train Epoch: 3 [19200/60000 (32%)]\tLoss: 0.226826\n",
            "Train Epoch: 3 [22400/60000 (37%)]\tLoss: 0.180325\n",
            "Train Epoch: 3 [25600/60000 (43%)]\tLoss: 0.271802\n",
            "Train Epoch: 3 [28800/60000 (48%)]\tLoss: 0.257158\n",
            "Train Epoch: 3 [32000/60000 (53%)]\tLoss: 0.501559\n",
            "Train Epoch: 3 [35200/60000 (59%)]\tLoss: 0.180163\n",
            "Train Epoch: 3 [38400/60000 (64%)]\tLoss: 0.313313\n",
            "Train Epoch: 3 [41600/60000 (69%)]\tLoss: 0.404506\n",
            "Train Epoch: 3 [44800/60000 (75%)]\tLoss: 0.253338\n",
            "Train Epoch: 3 [48000/60000 (80%)]\tLoss: 0.212250\n",
            "Train Epoch: 3 [51200/60000 (85%)]\tLoss: 0.553197\n",
            "Train Epoch: 3 [54400/60000 (91%)]\tLoss: 0.273070\n",
            "Train Epoch: 3 [57600/60000 (96%)]\tLoss: 0.339860\n",
            "\n",
            "Test set: Average loss: 0.3752, Accuracy: 8927/10000 (89%)\n",
            "\n",
            "Train Epoch: 4 [0/60000 (0%)]\tLoss: 0.215477\n",
            "Train Epoch: 4 [3200/60000 (5%)]\tLoss: 0.686361\n",
            "Train Epoch: 4 [6400/60000 (11%)]\tLoss: 0.354901\n",
            "Train Epoch: 4 [9600/60000 (16%)]\tLoss: 0.181871\n",
            "Train Epoch: 4 [12800/60000 (21%)]\tLoss: 0.170177\n",
            "Train Epoch: 4 [16000/60000 (27%)]\tLoss: 0.369850\n",
            "Train Epoch: 4 [19200/60000 (32%)]\tLoss: 0.227653\n",
            "Train Epoch: 4 [22400/60000 (37%)]\tLoss: 0.176657\n",
            "Train Epoch: 4 [25600/60000 (43%)]\tLoss: 0.257657\n",
            "Train Epoch: 4 [28800/60000 (48%)]\tLoss: 0.243144\n",
            "Train Epoch: 4 [32000/60000 (53%)]\tLoss: 0.483923\n",
            "Train Epoch: 4 [35200/60000 (59%)]\tLoss: 0.178936\n",
            "Train Epoch: 4 [38400/60000 (64%)]\tLoss: 0.307849\n",
            "Train Epoch: 4 [41600/60000 (69%)]\tLoss: 0.397457\n",
            "Train Epoch: 4 [44800/60000 (75%)]\tLoss: 0.264150\n",
            "Train Epoch: 4 [48000/60000 (80%)]\tLoss: 0.202459\n",
            "Train Epoch: 4 [51200/60000 (85%)]\tLoss: 0.535787\n",
            "Train Epoch: 4 [54400/60000 (91%)]\tLoss: 0.258815\n",
            "Train Epoch: 4 [57600/60000 (96%)]\tLoss: 0.330249\n",
            "\n",
            "Test set: Average loss: 0.3741, Accuracy: 8920/10000 (89%)\n",
            "\n",
            "Train Epoch: 5 [0/60000 (0%)]\tLoss: 0.197069\n",
            "Train Epoch: 5 [3200/60000 (5%)]\tLoss: 0.701793\n",
            "Train Epoch: 5 [6400/60000 (11%)]\tLoss: 0.348267\n",
            "Train Epoch: 5 [9600/60000 (16%)]\tLoss: 0.181671\n",
            "Train Epoch: 5 [12800/60000 (21%)]\tLoss: 0.162754\n",
            "Train Epoch: 5 [16000/60000 (27%)]\tLoss: 0.357061\n",
            "Train Epoch: 5 [19200/60000 (32%)]\tLoss: 0.233379\n",
            "Train Epoch: 5 [22400/60000 (37%)]\tLoss: 0.178708\n",
            "Train Epoch: 5 [25600/60000 (43%)]\tLoss: 0.240194\n",
            "Train Epoch: 5 [28800/60000 (48%)]\tLoss: 0.230094\n",
            "Train Epoch: 5 [32000/60000 (53%)]\tLoss: 0.473114\n",
            "Train Epoch: 5 [35200/60000 (59%)]\tLoss: 0.181254\n",
            "Train Epoch: 5 [38400/60000 (64%)]\tLoss: 0.293875\n",
            "Train Epoch: 5 [41600/60000 (69%)]\tLoss: 0.381399\n",
            "Train Epoch: 5 [44800/60000 (75%)]\tLoss: 0.271093\n",
            "Train Epoch: 5 [48000/60000 (80%)]\tLoss: 0.197604\n",
            "Train Epoch: 5 [51200/60000 (85%)]\tLoss: 0.513858\n",
            "Train Epoch: 5 [54400/60000 (91%)]\tLoss: 0.239931\n",
            "Train Epoch: 5 [57600/60000 (96%)]\tLoss: 0.326756\n",
            "\n",
            "Test set: Average loss: 0.3759, Accuracy: 8927/10000 (89%)\n",
            "\n",
            "Train Epoch: 6 [0/60000 (0%)]\tLoss: 0.189564\n",
            "Train Epoch: 6 [3200/60000 (5%)]\tLoss: 0.710636\n",
            "Train Epoch: 6 [6400/60000 (11%)]\tLoss: 0.341296\n",
            "Train Epoch: 6 [9600/60000 (16%)]\tLoss: 0.174737\n",
            "Train Epoch: 6 [12800/60000 (21%)]\tLoss: 0.158606\n",
            "Train Epoch: 6 [16000/60000 (27%)]\tLoss: 0.346367\n",
            "Train Epoch: 6 [19200/60000 (32%)]\tLoss: 0.229636\n",
            "Train Epoch: 6 [22400/60000 (37%)]\tLoss: 0.181570\n",
            "Train Epoch: 6 [25600/60000 (43%)]\tLoss: 0.217139\n",
            "Train Epoch: 6 [28800/60000 (48%)]\tLoss: 0.222888\n",
            "Train Epoch: 6 [32000/60000 (53%)]\tLoss: 0.463207\n",
            "Train Epoch: 6 [35200/60000 (59%)]\tLoss: 0.185381\n",
            "Train Epoch: 6 [38400/60000 (64%)]\tLoss: 0.287980\n",
            "Train Epoch: 6 [41600/60000 (69%)]\tLoss: 0.366295\n",
            "Train Epoch: 6 [44800/60000 (75%)]\tLoss: 0.272448\n",
            "Train Epoch: 6 [48000/60000 (80%)]\tLoss: 0.193154\n",
            "Train Epoch: 6 [51200/60000 (85%)]\tLoss: 0.511628\n",
            "Train Epoch: 6 [54400/60000 (91%)]\tLoss: 0.223750\n",
            "Train Epoch: 6 [57600/60000 (96%)]\tLoss: 0.325034\n",
            "\n",
            "Test set: Average loss: 0.3754, Accuracy: 8938/10000 (89%)\n",
            "\n",
            "Train Epoch: 7 [0/60000 (0%)]\tLoss: 0.190085\n",
            "Train Epoch: 7 [3200/60000 (5%)]\tLoss: 0.710091\n",
            "Train Epoch: 7 [6400/60000 (11%)]\tLoss: 0.328944\n",
            "Train Epoch: 7 [9600/60000 (16%)]\tLoss: 0.168746\n",
            "Train Epoch: 7 [12800/60000 (21%)]\tLoss: 0.155557\n",
            "Train Epoch: 7 [16000/60000 (27%)]\tLoss: 0.341327\n",
            "Train Epoch: 7 [19200/60000 (32%)]\tLoss: 0.232013\n",
            "Train Epoch: 7 [22400/60000 (37%)]\tLoss: 0.185535\n",
            "Train Epoch: 7 [25600/60000 (43%)]\tLoss: 0.200951\n",
            "Train Epoch: 7 [28800/60000 (48%)]\tLoss: 0.214557\n",
            "Train Epoch: 7 [32000/60000 (53%)]\tLoss: 0.461839\n",
            "Train Epoch: 7 [35200/60000 (59%)]\tLoss: 0.185037\n",
            "Train Epoch: 7 [38400/60000 (64%)]\tLoss: 0.283257\n",
            "Train Epoch: 7 [41600/60000 (69%)]\tLoss: 0.358260\n",
            "Train Epoch: 7 [44800/60000 (75%)]\tLoss: 0.275178\n",
            "Train Epoch: 7 [48000/60000 (80%)]\tLoss: 0.191542\n",
            "Train Epoch: 7 [51200/60000 (85%)]\tLoss: 0.511080\n",
            "Train Epoch: 7 [54400/60000 (91%)]\tLoss: 0.212259\n",
            "Train Epoch: 7 [57600/60000 (96%)]\tLoss: 0.320484\n",
            "\n",
            "Test set: Average loss: 0.3765, Accuracy: 8937/10000 (89%)\n",
            "\n",
            "Train Epoch: 8 [0/60000 (0%)]\tLoss: 0.196207\n",
            "Train Epoch: 8 [3200/60000 (5%)]\tLoss: 0.696680\n",
            "Train Epoch: 8 [6400/60000 (11%)]\tLoss: 0.316081\n",
            "Train Epoch: 8 [9600/60000 (16%)]\tLoss: 0.165526\n",
            "Train Epoch: 8 [12800/60000 (21%)]\tLoss: 0.154722\n",
            "Train Epoch: 8 [16000/60000 (27%)]\tLoss: 0.349755\n",
            "Train Epoch: 8 [19200/60000 (32%)]\tLoss: 0.233998\n",
            "Train Epoch: 8 [22400/60000 (37%)]\tLoss: 0.186454\n",
            "Train Epoch: 8 [25600/60000 (43%)]\tLoss: 0.189211\n",
            "Train Epoch: 8 [28800/60000 (48%)]\tLoss: 0.200597\n",
            "Train Epoch: 8 [32000/60000 (53%)]\tLoss: 0.458350\n",
            "Train Epoch: 8 [35200/60000 (59%)]\tLoss: 0.182800\n",
            "Train Epoch: 8 [38400/60000 (64%)]\tLoss: 0.283046\n",
            "Train Epoch: 8 [41600/60000 (69%)]\tLoss: 0.353637\n",
            "Train Epoch: 8 [44800/60000 (75%)]\tLoss: 0.280782\n",
            "Train Epoch: 8 [48000/60000 (80%)]\tLoss: 0.186045\n",
            "Train Epoch: 8 [51200/60000 (85%)]\tLoss: 0.510344\n",
            "Train Epoch: 8 [54400/60000 (91%)]\tLoss: 0.199341\n",
            "Train Epoch: 8 [57600/60000 (96%)]\tLoss: 0.315793\n",
            "\n",
            "Test set: Average loss: 0.3762, Accuracy: 8933/10000 (89%)\n",
            "\n",
            "Train Epoch: 9 [0/60000 (0%)]\tLoss: 0.204170\n",
            "Train Epoch: 9 [3200/60000 (5%)]\tLoss: 0.686331\n",
            "Train Epoch: 9 [6400/60000 (11%)]\tLoss: 0.301900\n",
            "Train Epoch: 9 [9600/60000 (16%)]\tLoss: 0.160589\n",
            "Train Epoch: 9 [12800/60000 (21%)]\tLoss: 0.152161\n",
            "Train Epoch: 9 [16000/60000 (27%)]\tLoss: 0.354317\n",
            "Train Epoch: 9 [19200/60000 (32%)]\tLoss: 0.229041\n",
            "Train Epoch: 9 [22400/60000 (37%)]\tLoss: 0.181307\n",
            "Train Epoch: 9 [25600/60000 (43%)]\tLoss: 0.176646\n",
            "Train Epoch: 9 [28800/60000 (48%)]\tLoss: 0.182687\n",
            "Train Epoch: 9 [32000/60000 (53%)]\tLoss: 0.452219\n",
            "Train Epoch: 9 [35200/60000 (59%)]\tLoss: 0.181815\n",
            "Train Epoch: 9 [38400/60000 (64%)]\tLoss: 0.285082\n",
            "Train Epoch: 9 [41600/60000 (69%)]\tLoss: 0.352030\n",
            "Train Epoch: 9 [44800/60000 (75%)]\tLoss: 0.281042\n",
            "Train Epoch: 9 [48000/60000 (80%)]\tLoss: 0.177918\n",
            "Train Epoch: 9 [51200/60000 (85%)]\tLoss: 0.512718\n",
            "Train Epoch: 9 [54400/60000 (91%)]\tLoss: 0.187177\n",
            "Train Epoch: 9 [57600/60000 (96%)]\tLoss: 0.310030\n",
            "\n",
            "Test set: Average loss: 0.3729, Accuracy: 8947/10000 (89%)\n",
            "\n"
          ],
          "name": "stdout"
        }
      ]
    },
    {
      "cell_type": "markdown",
      "metadata": {
        "id": "WpyzKvMzsyp2"
      },
      "source": [
        "#Predictions"
      ]
    },
    {
      "cell_type": "code",
      "metadata": {
        "id": "rjD761Wls4GJ",
        "outputId": "0f126560-d83a-4d2b-b1d3-4d1a947c0d98",
        "colab": {
          "base_uri": "https://localhost:8080/",
          "height": 50
        }
      },
      "source": [
        "model(train_ds[0][0])"
      ],
      "execution_count": 15,
      "outputs": [
        {
          "output_type": "execute_result",
          "data": {
            "text/plain": [
              "tensor([[-2.0384, -2.7691, -2.6889, -2.3626, -2.1093, -2.6008, -3.2610, -1.8211,\n",
              "         -2.2925, -1.9094]], grad_fn=<LogSoftmaxBackward>)"
            ]
          },
          "metadata": {
            "tags": []
          },
          "execution_count": 15
        }
      ]
    }
  ]
}