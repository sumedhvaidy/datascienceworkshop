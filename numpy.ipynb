{
  "nbformat": 4,
  "nbformat_minor": 0,
  "metadata": {
    "kernelspec": {
      "display_name": "Python 3",
      "language": "python",
      "name": "python3"
    },
    "language_info": {
      "codemirror_mode": {
        "name": "ipython",
        "version": 3
      },
      "file_extension": ".py",
      "mimetype": "text/x-python",
      "name": "python",
      "nbconvert_exporter": "python",
      "pygments_lexer": "ipython3",
      "version": "3.7.4"
    },
    "colab": {
      "name": "numpy.ipynb",
      "provenance": []
    }
  },
  "cells": [
    {
      "cell_type": "markdown",
      "metadata": {
        "id": "JELRPwsfhTjz",
        "colab_type": "text"
      },
      "source": [
        "# Introduction to NumPy\n",
        "\n",
        "We'll import:\n",
        "1. NumPy for the tensor work\n",
        "2. Matplotlib for visualizations\n",
        "3. The time module for timing operations"
      ]
    },
    {
      "cell_type": "code",
      "metadata": {
        "id": "OEDkzbJkhTj2",
        "colab_type": "code",
        "colab": {}
      },
      "source": [
        "import matplotlib.pyplot as plt\n",
        "import numpy as np\n",
        "import time\n",
        "\n",
        "%matplotlib inline"
      ],
      "execution_count": 1,
      "outputs": []
    },
    {
      "cell_type": "markdown",
      "metadata": {
        "id": "iF4BFz7qhTj8",
        "colab_type": "text"
      },
      "source": [
        "# Multidimensional Arrays\n",
        "\n",
        "From an introductory CS course or from personal experience you may have seen arrays that look like this,\n",
        "\n",
        "$$[1, 2, 3, 4, 5]$$\n",
        "\n",
        "Or even 2-D arrays like this,\n",
        "\n",
        "$$ [[1, 2, 3],\\\\\n",
        "     \\:[4, 5, 6],\\\\\n",
        "     \\:[7, 8, 9]] $$\n",
        "\n",
        "But what about a 3-D, 4-D, or N-D array?\n",
        "\n",
        "$$[[[1, 2],\\\\\n",
        "  \\;\\;\\;[3, 4]],\\\\\n",
        "  \\:[[5, 6],\\\\\n",
        "  \\;\\;\\;[7, 8]]]$$\n",
        "\n",
        "\n",
        "Turns out we can create these types of arrays in native Python, but they are hard to visualize and we will soon see that NumPy is a much more powerful tool for dealing with these high dimensional arrays also known as **tensors**."
      ]
    },
    {
      "cell_type": "code",
      "metadata": {
        "id": "iUvDLGJGhTj9",
        "colab_type": "code",
        "colab": {
          "base_uri": "https://localhost:8080/",
          "height": 84
        },
        "outputId": "cd337d67-d4af-4e90-9bd0-54488edac994"
      },
      "source": [
        "# a 2-D array in python\n",
        "a = [[1,2], [3,4]]\n",
        "print(a, '\\n')\n",
        "\n",
        "# a 2-D array in numpy\n",
        "b = np.array(a)\n",
        "print(b)"
      ],
      "execution_count": 2,
      "outputs": [
        {
          "output_type": "stream",
          "text": [
            "[[1, 2], [3, 4]] \n",
            "\n",
            "[[1 2]\n",
            " [3 4]]\n"
          ],
          "name": "stdout"
        }
      ]
    },
    {
      "cell_type": "code",
      "metadata": {
        "id": "FPNOaY2lhTkE",
        "colab_type": "code",
        "colab": {
          "base_uri": "https://localhost:8080/",
          "height": 134
        },
        "outputId": "01ceafcb-4532-411c-bec5-d95478737b06"
      },
      "source": [
        "# a 3-D array in python\n",
        "c = [[[1,2], [3,4]], [[5,6], [7,8]]]\n",
        "print(c, '\\n')\n",
        "\n",
        "\n",
        "# a 3-D array in numpy\n",
        "d = np.array(c)\n",
        "print(d)"
      ],
      "execution_count": 3,
      "outputs": [
        {
          "output_type": "stream",
          "text": [
            "[[[1, 2], [3, 4]], [[5, 6], [7, 8]]] \n",
            "\n",
            "[[[1 2]\n",
            "  [3 4]]\n",
            "\n",
            " [[5 6]\n",
            "  [7 8]]]\n"
          ],
          "name": "stdout"
        }
      ]
    },
    {
      "cell_type": "markdown",
      "metadata": {
        "id": "6-FzaHk-hTkH",
        "colab_type": "text"
      },
      "source": [
        "### So what's the difference?\n",
        "\n",
        "Visually, we can see that the np.array object can take in a python array as an argument and that it prints out the array in a nicer manner.\n",
        "\n",
        "However, the np.array object is actually just one way to create the more fundamental **np.ndarray** base type.\n",
        "\n",
        "There are several properties of an np.ndarray, there are some important ones:\n",
        "1. Dimension (rank) - how many dimensions a tensor has\n",
        "2. Shape - The sizes of each dimension\n",
        "3. Data type - The kind of data a tensor holds"
      ]
    },
    {
      "cell_type": "code",
      "metadata": {
        "id": "WyP5Y9F7hTkI",
        "colab_type": "code",
        "colab": {
          "base_uri": "https://localhost:8080/",
          "height": 67
        },
        "outputId": "b76f0015-4f13-49f6-9e7c-5a29febdd934"
      },
      "source": [
        "# lets print out some attributes of the ndarray d, from above\n",
        "print(d.ndim)\n",
        "print(d.shape)\n",
        "print(d.dtype)"
      ],
      "execution_count": 4,
      "outputs": [
        {
          "output_type": "stream",
          "text": [
            "3\n",
            "(2, 2, 2)\n",
            "int64\n"
          ],
          "name": "stdout"
        }
      ]
    },
    {
      "cell_type": "markdown",
      "metadata": {
        "id": "htkx_1TJhTkN",
        "colab_type": "text"
      },
      "source": [
        "# Array Indexing\n",
        "\n",
        "Now we're faced with the question - how do we read the data held in a tensor?\n",
        "\n",
        "Let's try to access the data in the array from above:"
      ]
    },
    {
      "cell_type": "code",
      "metadata": {
        "id": "U-GK3_KohTkO",
        "colab_type": "code",
        "colab": {
          "base_uri": "https://localhost:8080/",
          "height": 235
        },
        "outputId": "31411782-eba2-4e0c-98b5-05f18c35c852"
      },
      "source": [
        "# individual elements\n",
        "print(d[0][1][1])\n",
        "print(d[0, 1, 1], '\\n')\n",
        "\n",
        "# individual dimensions\n",
        "print(d[:, 0, 0])\n",
        "print(d[0, :, 0])\n",
        "print(d[0, 0, :], '\\n')\n",
        "\n",
        "# multiple dimensions\n",
        "print(d[:, :, 0])\n",
        "print(d[0, :, :])\n",
        "print(d[:, 0, :])"
      ],
      "execution_count": 5,
      "outputs": [
        {
          "output_type": "stream",
          "text": [
            "4\n",
            "4 \n",
            "\n",
            "[1 5]\n",
            "[1 3]\n",
            "[1 2] \n",
            "\n",
            "[[1 3]\n",
            " [5 7]]\n",
            "[[1 2]\n",
            " [3 4]]\n",
            "[[1 2]\n",
            " [5 6]]\n"
          ],
          "name": "stdout"
        }
      ]
    },
    {
      "cell_type": "markdown",
      "metadata": {
        "id": "KbfEI8wZhTkR",
        "colab_type": "text"
      },
      "source": [
        "For the first time, this high dimensional indexing can be hard to wrap your head around. Most of the time, you won't be able to visualize indexing tensors higher than 3-D but you get better with more practice!\n",
        "\n",
        "Question: What does this line do?"
      ]
    },
    {
      "cell_type": "code",
      "metadata": {
        "id": "nakA-r9ShTkS",
        "colab_type": "code",
        "colab": {
          "base_uri": "https://localhost:8080/",
          "height": 101
        },
        "outputId": "bfd96d0d-0183-465c-9a97-cd7296a1d217"
      },
      "source": [
        "print(d[:, :, :])"
      ],
      "execution_count": 6,
      "outputs": [
        {
          "output_type": "stream",
          "text": [
            "[[[1 2]\n",
            "  [3 4]]\n",
            "\n",
            " [[5 6]\n",
            "  [7 8]]]\n"
          ],
          "name": "stdout"
        }
      ]
    },
    {
      "cell_type": "markdown",
      "metadata": {
        "id": "uGbsCEQ7hTkV",
        "colab_type": "text"
      },
      "source": [
        "# Vectorization\n",
        "\n",
        "Vectorization is what makes NumPy and other linear algebra libraries so powerful. In short, vectorization is ability to perform computation in parallel.\n",
        "\n",
        "Let's start with a simple example:"
      ]
    },
    {
      "cell_type": "code",
      "metadata": {
        "id": "Up8z6KTAhTkW",
        "colab_type": "code",
        "colab": {
          "base_uri": "https://localhost:8080/",
          "height": 34
        },
        "outputId": "aa094a1b-8ed2-473b-e044-14deb0cf97e8"
      },
      "source": [
        "a = np.array([1, 2, 3, 4, 5, 6, 7, 8])\n",
        "b = np.array([2, 3, 4, 5, 6, 7, 8, 9])\n"
      ],
      "execution_count": 8,
      "outputs": [
        {
          "output_type": "execute_result",
          "data": {
            "text/plain": [
              "(array([1, 2, 3, 4, 5, 6, 7, 8]), array([2, 3, 4, 5, 6, 7, 8, 9]))"
            ]
          },
          "metadata": {
            "tags": []
          },
          "execution_count": 8
        }
      ]
    },
    {
      "cell_type": "markdown",
      "metadata": {
        "id": "1sVp5QXkhTkZ",
        "colab_type": "text"
      },
      "source": [
        "How do we perform the operation $a + b$?\n"
      ]
    },
    {
      "cell_type": "code",
      "metadata": {
        "id": "GmFOiw4NhTkZ",
        "colab_type": "code",
        "colab": {
          "base_uri": "https://localhost:8080/",
          "height": 50
        },
        "outputId": "b1c76214-5281-4cea-d8bb-f58e7b2c0e4f"
      },
      "source": [
        "# python for-loop way\n",
        "start = time.time()\n",
        "ans_loop = []\n",
        "for i, j in zip(a, b):\n",
        "    ans_loop.append(i + j)\n",
        "end = time.time() - start\n",
        "\n",
        "print(f\"Time taken: {end}\")\n",
        "print(ans_loop)"
      ],
      "execution_count": 9,
      "outputs": [
        {
          "output_type": "stream",
          "text": [
            "Time taken: 0.0003032684326171875\n",
            "[3, 5, 7, 9, 11, 13, 15, 17]\n"
          ],
          "name": "stdout"
        }
      ]
    },
    {
      "cell_type": "code",
      "metadata": {
        "id": "457sEqXlhTkf",
        "colab_type": "code",
        "colab": {
          "base_uri": "https://localhost:8080/",
          "height": 50
        },
        "outputId": "6f03198c-0ff1-450c-c86c-9135e94ea1a9"
      },
      "source": [
        "# numpy vectorized way\n",
        "start = time.time()\n",
        "ans_vec = a + b\n",
        "end = time.time() - start\n",
        "\n",
        "print(f\"Time taken: {end}\")\n",
        "print(ans_vec)"
      ],
      "execution_count": 10,
      "outputs": [
        {
          "output_type": "stream",
          "text": [
            "Time taken: 0.00013136863708496094\n",
            "[ 3  5  7  9 11 13 15 17]\n"
          ],
          "name": "stdout"
        }
      ]
    },
    {
      "cell_type": "markdown",
      "metadata": {
        "id": "j1v8JldLhTki",
        "colab_type": "text"
      },
      "source": [
        "Both methods produce the correct answer! The NumPy method is faster but not much faster for this example. What happens if we scale the problem up..."
      ]
    },
    {
      "cell_type": "code",
      "metadata": {
        "id": "bbGi7NbohTkj",
        "colab_type": "code",
        "colab": {}
      },
      "source": [
        "a = np.arange(1e5)\n",
        "b = np.arange(1e5)"
      ],
      "execution_count": 11,
      "outputs": []
    },
    {
      "cell_type": "code",
      "metadata": {
        "id": "7x_x-TmUhTkm",
        "colab_type": "code",
        "colab": {
          "base_uri": "https://localhost:8080/",
          "height": 50
        },
        "outputId": "59743454-21ef-42ff-cea8-50b8ea2c24bb"
      },
      "source": [
        "# python for-loop way\n",
        "start = time.time()\n",
        "ans_loop = []\n",
        "for i, j in zip(a, b):\n",
        "    ans_loop.append(i + j)\n",
        "end = time.time() - start\n",
        "\n",
        "print(f\"Time taken - for loop: {end}\")\n",
        "\n",
        "# numpy vectorized way\n",
        "start = time.time()\n",
        "ans_vec = a + b\n",
        "end = time.time() - start\n",
        "\n",
        "print(f\"Time taken - vectorized: {end}\")"
      ],
      "execution_count": 13,
      "outputs": [
        {
          "output_type": "stream",
          "text": [
            "Time taken - for loop: 0.05412125587463379\n",
            "Time taken - vectorized: 0.0008661746978759766\n"
          ],
          "name": "stdout"
        }
      ]
    },
    {
      "cell_type": "markdown",
      "metadata": {
        "id": "7uSxTTbdhTkp",
        "colab_type": "text"
      },
      "source": [
        "Here we can really see the power of vectorization... and the great thing about this is that it applies to any numpy supported operations ($+, -, *, **, /, //$), **and** any function:"
      ]
    },
    {
      "cell_type": "code",
      "metadata": {
        "id": "UYYG4kWohTkq",
        "colab_type": "code",
        "colab": {
          "base_uri": "https://localhost:8080/",
          "height": 265
        },
        "outputId": "02d11911-89bc-4f48-ea04-3fa572752166"
      },
      "source": [
        "# domain\n",
        "x = np.linspace(-5, 5, 100)\n",
        "\n",
        "# custom function\n",
        "def f(x): return x**2 + 1\n",
        "    \n",
        "plt.figure()\n",
        "plt.plot(x, f(x), '-r')\n",
        "plt.plot(x, np.exp(x), '-b')\n",
        "plt.show()"
      ],
      "execution_count": 16,
      "outputs": [
        {
          "output_type": "display_data",
          "data": {
            "image/png": "[encoded data removed]",
            "text/plain": [
              "<Figure size 432x288 with 1 Axes>"
            ]
          },
          "metadata": {
            "tags": [],
            "needs_background": "light"
          }
        }
      ]
    },
    {
      "cell_type": "markdown",
      "metadata": {
        "id": "dHAz48eyhTkz",
        "colab_type": "text"
      },
      "source": [
        "# Random Sampling\n",
        "\n",
        "Random sampling is important because it is **very** prevelant and important in machine learning and numerical computing in general. \n",
        "\n",
        "Luckily NumPy has a random sampling module! [NumPy Random Docs](https://docs.scipy.org/doc/numpy-1.15.0/reference/routines.random.html)"
      ]
    },
    {
      "cell_type": "code",
      "metadata": {
        "id": "e4pB4stthTk0",
        "colab_type": "code",
        "colab": {
          "base_uri": "https://localhost:8080/",
          "height": 67
        },
        "outputId": "b9d510ae-15af-4a8d-9547-d0586e5c57b8"
      },
      "source": [
        "# sampling arbitrary random vectors from a uniform distribution\n",
        "randvec = np.random.rand(3,4)\n",
        "print(randvec)"
      ],
      "execution_count": 14,
      "outputs": [
        {
          "output_type": "stream",
          "text": [
            "[[0.11579283 0.80571476 0.09141702 0.23012887]\n",
            " [0.2271166  0.4042518  0.68550067 0.16873698]\n",
            " [0.82896156 0.89173929 0.14118314 0.54036497]]\n"
          ],
          "name": "stdout"
        }
      ]
    },
    {
      "cell_type": "code",
      "metadata": {
        "id": "UR8usc4lhTk3",
        "colab_type": "code",
        "colab": {
          "base_uri": "https://localhost:8080/",
          "height": 101
        },
        "outputId": "7f0f32e7-4709-4a17-d3eb-70fddf0c5b85"
      },
      "source": [
        "a = np.arange(10)\n",
        "\n",
        "# shuffling elements of an array\n",
        "np.random.shuffle(a)\n",
        "print(a, '\\n')\n",
        "\n",
        "# picking elements randomly from an array\n",
        "randelems1 = np.random.choice(a)\n",
        "randelems2 = np.random.choice(a, 3)\n",
        "randelems3 = np.random.choice(a, 3, replace=False)\n",
        "\n",
        "print(randelems1)\n",
        "print(randelems2)\n",
        "print(randelems3)"
      ],
      "execution_count": 17,
      "outputs": [
        {
          "output_type": "stream",
          "text": [
            "[1 6 3 8 9 5 7 2 0 4] \n",
            "\n",
            "8\n",
            "[3 8 2]\n",
            "[6 3 1]\n"
          ],
          "name": "stdout"
        }
      ]
    },
    {
      "cell_type": "code",
      "metadata": {
        "id": "mXSW4udXhTk6",
        "colab_type": "code",
        "colab": {
          "base_uri": "https://localhost:8080/",
          "height": 50
        },
        "outputId": "33a4f7f8-e091-4f2e-cd07-e39195255ecb"
      },
      "source": [
        "# sampling random integers within a range\n",
        "randints = np.random.randint(1, 9, size=(2,2))\n",
        "print(randints)"
      ],
      "execution_count": 18,
      "outputs": [
        {
          "output_type": "stream",
          "text": [
            "[[1 7]\n",
            " [1 8]]\n"
          ],
          "name": "stdout"
        }
      ]
    },
    {
      "cell_type": "code",
      "metadata": {
        "id": "PTRR0qMshTlA",
        "colab_type": "code",
        "colab": {}
      },
      "source": [
        ""
      ],
      "execution_count": null,
      "outputs": []
    }
  ]
}